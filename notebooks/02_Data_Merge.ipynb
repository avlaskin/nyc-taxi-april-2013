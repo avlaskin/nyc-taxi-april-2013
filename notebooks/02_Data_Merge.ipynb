{
 "cells": [
  {
   "cell_type": "code",
   "execution_count": 1,
   "metadata": {},
   "outputs": [],
   "source": [
    "import os\n",
    "import time\n",
    "import matplotlib\n",
    "import matplotlib.pyplot as plt\n",
    "import numpy as np\n",
    "import shapefile\n",
    "import pandas as pd\n",
    "import seaborn as sns\n",
    "from scipy import stats \n",
    "import scipy\n",
    "from scipy.special import factorial\n",
    "import math\n",
    "from cleanData import getCleanTripData, getCleanFareData, mergeHashedData, getHashedData"
   ]
  },
  {
   "cell_type": "code",
   "execution_count": 2,
   "metadata": {},
   "outputs": [
    {
     "name": "stdout",
     "output_type": "stream",
     "text": [
      "Stared.\n"
     ]
    }
   ],
   "source": [
    "print(\"Stared.\")\n",
    "trip = pd.read_csv('./data/trip_data_4.csv', skipinitialspace=True, dtype={\"rate_code\": int, \"passenger_count\": int,\"store_and_fwd_flag\": str})\n",
    "fare = pd.read_csv('./data/trip_fare_4.csv', skipinitialspace=True)\n",
    "    "
   ]
  },
  {
   "cell_type": "code",
   "execution_count": 17,
   "metadata": {},
   "outputs": [
    {
     "data": {
      "image/png": "[encoded data removed]",
      "text/plain": [
       "<matplotlib.figure.Figure at 0x1a16e267b8>"
      ]
     },
     "metadata": {},
     "output_type": "display_data"
    }
   ],
   "source": [
    "# Later on I got to idea of de-skewing the predicted variables\n",
    "# Did not try that for prediction models, but would try if have more time.\n",
    "# Kind of strange to see some bins empty.\n",
    "\n",
    "ta = np.log(np.log(np.array(fare.fare_amount)))\n",
    "plt.hist(ta, bins=50, normed=True, facecolor='green', alpha=0.75)\n",
    "plt.ylabel('Probability')\n",
    "plt.title('Logarithm of Lofarithm of Fare Amount')\n",
    "plt.grid(True)"
   ]
  },
  {
   "cell_type": "code",
   "execution_count": 3,
   "metadata": {},
   "outputs": [
    {
     "name": "stdout",
     "output_type": "stream",
     "text": [
      "Took time 11.922173023223877\n",
      "1304\n",
      "1304\n"
     ]
    }
   ],
   "source": [
    "print(\"Stared.\")\n",
    "#Create a new hash_id\n",
    "start = time.time()\n",
    "b = fare['medallion'] + fare['hack_license'] + fare['pickup_datetime']\n",
    "c = trip['medallion'] + trip['hack_license'] + trip['pickup_datetime']\n",
    "fare['id'] = b\n",
    "trip['id'] = c\n",
    "end = time.time()\n",
    "print(\"Took time {}\".format(end-start))\n",
    "\n",
    "\n",
    "ids = fare[\"id\"]\n",
    "dups = fare[ids.isin(ids[ids.duplicated()])]\n",
    "fare = fare[~ids.isin(ids[ids.duplicated()])]\n",
    "\n",
    "idst = trip[\"id\"]\n",
    "dupst = trip[idst.isin(idst[idst.duplicated()])]\n",
    "trip = trip[~idst.isin(idst[idst.duplicated()])]\n",
    "print(len(dups.index))\n",
    "print(len(dupst.index))\n"
   ]
  },
  {
   "cell_type": "code",
   "execution_count": 8,
   "metadata": {},
   "outputs": [
    {
     "name": "stdout",
     "output_type": "stream",
     "text": [
      "Started\n"
     ]
    }
   ],
   "source": [
    "print(\"Started\")\n",
    "tt = trip\n",
    "ff = fare"
   ]
  },
  {
   "cell_type": "code",
   "execution_count": 9,
   "metadata": {},
   "outputs": [
    {
     "name": "stdout",
     "output_type": "stream",
     "text": [
      "Took time 74.77470993995667\n",
      "Took time 82.34916973114014\n"
     ]
    }
   ],
   "source": [
    "start = time.time()\n",
    "trip_s = tt.sort_values(by=['id'])\n",
    "end = time.time()\n",
    "print(\"Took time {}\".format(end-start))\n",
    "start = time.time()\n",
    "fare_s = ff.sort_values(by=['id'])\n",
    "end = time.time()\n",
    "print(\"Took time {}\".format(end-start))\n",
    "\n"
   ]
  },
  {
   "cell_type": "code",
   "execution_count": 10,
   "metadata": {},
   "outputs": [
    {
     "name": "stdout",
     "output_type": "stream",
     "text": [
      "001DFAC01BC0A32F48C3769DD141477804C3D5AE70D72CAB3BBE9DDAA3D843B42013-04-28 23:18:06\n",
      "001DFAC01BC0A32F48C3769DD141477804C3D5AE70D72CAB3BBE9DDAA3D843B42013-04-28 23:18:06\n"
     ]
    }
   ],
   "source": [
    "# Testing if they are equal\n",
    "idt = np.array(trip_s['id'])\n",
    "idf = np.array(fare_s['id'])\n",
    "np.array_equal(idt, idf)\n",
    "print(idt[10001])\n",
    "print(idf[10001])"
   ]
  },
  {
   "cell_type": "code",
   "execution_count": 11,
   "metadata": {},
   "outputs": [],
   "source": [
    "result = pd.concat([trip, fare], axis=1)"
   ]
  },
  {
   "cell_type": "code",
   "execution_count": 13,
   "metadata": {},
   "outputs": [
    {
     "data": {
      "text/html": [
       "<div>\n",
       "<style scoped>\n",
       "    .dataframe tbody tr th:only-of-type {\n",
       "        vertical-align: middle;\n",
       "    }\n",
       "\n",
       "    .dataframe tbody tr th {\n",
       "        vertical-align: top;\n",
       "    }\n",
       "\n",
       "    .dataframe thead th {\n",
       "        text-align: right;\n",
       "    }\n",
       "</style>\n",
       "<table border=\"1\" class=\"dataframe\">\n",
       "  <thead>\n",
       "    <tr style=\"text-align: right;\">\n",
       "      <th></th>\n",
       "      <th>medallion</th>\n",
       "      <th>hack_license</th>\n",
       "      <th>vendor_id</th>\n",
       "      <th>rate_code</th>\n",
       "      <th>store_and_fwd_flag</th>\n",
       "      <th>pickup_datetime</th>\n",
       "      <th>dropoff_datetime</th>\n",
       "      <th>passenger_count</th>\n",
       "      <th>trip_time_in_secs</th>\n",
       "      <th>trip_distance</th>\n",
       "      <th>...</th>\n",
       "      <th>vendor_id</th>\n",
       "      <th>pickup_datetime</th>\n",
       "      <th>payment_type</th>\n",
       "      <th>fare_amount</th>\n",
       "      <th>surcharge</th>\n",
       "      <th>mta_tax</th>\n",
       "      <th>tip_amount</th>\n",
       "      <th>tolls_amount</th>\n",
       "      <th>total_amount</th>\n",
       "      <th>id</th>\n",
       "    </tr>\n",
       "  </thead>\n",
       "  <tbody>\n",
       "    <tr>\n",
       "      <th>0</th>\n",
       "      <td>91F6EB84975BBC867E32CB113C7C2CD5</td>\n",
       "      <td>AD8751110E6292079EB10EB9481FE1A6</td>\n",
       "      <td>CMT</td>\n",
       "      <td>1</td>\n",
       "      <td>N</td>\n",
       "      <td>2013-04-04 18:47:45</td>\n",
       "      <td>2013-04-04 19:00:25</td>\n",
       "      <td>1</td>\n",
       "      <td>759</td>\n",
       "      <td>2.5</td>\n",
       "      <td>...</td>\n",
       "      <td>CMT</td>\n",
       "      <td>2013-04-04 18:47:45</td>\n",
       "      <td>CRD</td>\n",
       "      <td>11.0</td>\n",
       "      <td>1.0</td>\n",
       "      <td>0.5</td>\n",
       "      <td>2.50</td>\n",
       "      <td>0.0</td>\n",
       "      <td>15.00</td>\n",
       "      <td>91F6EB84975BBC867E32CB113C7C2CD5AD8751110E6292...</td>\n",
       "    </tr>\n",
       "    <tr>\n",
       "      <th>1</th>\n",
       "      <td>EC34CD1B3797DFAFF3FE099BA87B6656</td>\n",
       "      <td>8FE6A4AEDF89B6B4E19D2377FD3FB7D7</td>\n",
       "      <td>CMT</td>\n",
       "      <td>1</td>\n",
       "      <td>N</td>\n",
       "      <td>2013-04-05 07:08:34</td>\n",
       "      <td>2013-04-05 07:17:34</td>\n",
       "      <td>1</td>\n",
       "      <td>540</td>\n",
       "      <td>1.6</td>\n",
       "      <td>...</td>\n",
       "      <td>CMT</td>\n",
       "      <td>2013-04-05 07:08:34</td>\n",
       "      <td>CRD</td>\n",
       "      <td>8.5</td>\n",
       "      <td>0.0</td>\n",
       "      <td>0.5</td>\n",
       "      <td>1.80</td>\n",
       "      <td>0.0</td>\n",
       "      <td>10.80</td>\n",
       "      <td>EC34CD1B3797DFAFF3FE099BA87B66568FE6A4AEDF89B6...</td>\n",
       "    </tr>\n",
       "    <tr>\n",
       "      <th>2</th>\n",
       "      <td>C1B9DA774DC2BBC6DE27CE994E7F44A0</td>\n",
       "      <td>E1B595FD55E4C82C1E213EB17438107A</td>\n",
       "      <td>CMT</td>\n",
       "      <td>1</td>\n",
       "      <td>N</td>\n",
       "      <td>2013-04-04 17:59:50</td>\n",
       "      <td>2013-04-04 18:21:48</td>\n",
       "      <td>1</td>\n",
       "      <td>1318</td>\n",
       "      <td>3.6</td>\n",
       "      <td>...</td>\n",
       "      <td>CMT</td>\n",
       "      <td>2013-04-04 17:59:50</td>\n",
       "      <td>CRD</td>\n",
       "      <td>16.5</td>\n",
       "      <td>1.0</td>\n",
       "      <td>0.5</td>\n",
       "      <td>3.60</td>\n",
       "      <td>0.0</td>\n",
       "      <td>21.60</td>\n",
       "      <td>C1B9DA774DC2BBC6DE27CE994E7F44A0E1B595FD55E4C8...</td>\n",
       "    </tr>\n",
       "    <tr>\n",
       "      <th>3</th>\n",
       "      <td>9BA84250355AB3FC031C9252D395BF8A</td>\n",
       "      <td>16BB0D96A0DCC853AEC7F55C8D6C71E0</td>\n",
       "      <td>CMT</td>\n",
       "      <td>1</td>\n",
       "      <td>N</td>\n",
       "      <td>2013-04-04 18:12:01</td>\n",
       "      <td>2013-04-04 18:25:24</td>\n",
       "      <td>1</td>\n",
       "      <td>799</td>\n",
       "      <td>1.9</td>\n",
       "      <td>...</td>\n",
       "      <td>CMT</td>\n",
       "      <td>2013-04-04 18:12:01</td>\n",
       "      <td>CRD</td>\n",
       "      <td>10.0</td>\n",
       "      <td>1.0</td>\n",
       "      <td>0.5</td>\n",
       "      <td>3.45</td>\n",
       "      <td>0.0</td>\n",
       "      <td>14.95</td>\n",
       "      <td>9BA84250355AB3FC031C9252D395BF8A16BB0D96A0DCC8...</td>\n",
       "    </tr>\n",
       "    <tr>\n",
       "      <th>4</th>\n",
       "      <td>205A696DF62AD03C88DA8C5EC5248639</td>\n",
       "      <td>579C41EA5EC846F8B641A42F9EE3E855</td>\n",
       "      <td>CMT</td>\n",
       "      <td>1</td>\n",
       "      <td>N</td>\n",
       "      <td>2013-04-04 20:12:57</td>\n",
       "      <td>2013-04-04 20:29:55</td>\n",
       "      <td>1</td>\n",
       "      <td>1017</td>\n",
       "      <td>3.6</td>\n",
       "      <td>...</td>\n",
       "      <td>CMT</td>\n",
       "      <td>2013-04-04 20:12:57</td>\n",
       "      <td>CRD</td>\n",
       "      <td>15.0</td>\n",
       "      <td>0.5</td>\n",
       "      <td>0.5</td>\n",
       "      <td>3.20</td>\n",
       "      <td>0.0</td>\n",
       "      <td>19.20</td>\n",
       "      <td>205A696DF62AD03C88DA8C5EC5248639579C41EA5EC846...</td>\n",
       "    </tr>\n",
       "  </tbody>\n",
       "</table>\n",
       "<p>5 rows × 27 columns</p>\n",
       "</div>"
      ],
      "text/plain": [
       "                          medallion                      hack_license  \\\n",
       "0  91F6EB84975BBC867E32CB113C7C2CD5  AD8751110E6292079EB10EB9481FE1A6   \n",
       "1  EC34CD1B3797DFAFF3FE099BA87B6656  8FE6A4AEDF89B6B4E19D2377FD3FB7D7   \n",
       "2  C1B9DA774DC2BBC6DE27CE994E7F44A0  E1B595FD55E4C82C1E213EB17438107A   \n",
       "3  9BA84250355AB3FC031C9252D395BF8A  16BB0D96A0DCC853AEC7F55C8D6C71E0   \n",
       "4  205A696DF62AD03C88DA8C5EC5248639  579C41EA5EC846F8B641A42F9EE3E855   \n",
       "\n",
       "   vendor_id  rate_code store_and_fwd_flag      pickup_datetime  \\\n",
       "0        CMT          1                  N  2013-04-04 18:47:45   \n",
       "1        CMT          1                  N  2013-04-05 07:08:34   \n",
       "2        CMT          1                  N  2013-04-04 17:59:50   \n",
       "3        CMT          1                  N  2013-04-04 18:12:01   \n",
       "4        CMT          1                  N  2013-04-04 20:12:57   \n",
       "\n",
       "      dropoff_datetime  passenger_count  trip_time_in_secs  trip_distance  \\\n",
       "0  2013-04-04 19:00:25                1                759            2.5   \n",
       "1  2013-04-05 07:17:34                1                540            1.6   \n",
       "2  2013-04-04 18:21:48                1               1318            3.6   \n",
       "3  2013-04-04 18:25:24                1                799            1.9   \n",
       "4  2013-04-04 20:29:55                1               1017            3.6   \n",
       "\n",
       "                         ...                          vendor_id  \\\n",
       "0                        ...                                CMT   \n",
       "1                        ...                                CMT   \n",
       "2                        ...                                CMT   \n",
       "3                        ...                                CMT   \n",
       "4                        ...                                CMT   \n",
       "\n",
       "       pickup_datetime  payment_type  fare_amount surcharge mta_tax  \\\n",
       "0  2013-04-04 18:47:45           CRD         11.0       1.0     0.5   \n",
       "1  2013-04-05 07:08:34           CRD          8.5       0.0     0.5   \n",
       "2  2013-04-04 17:59:50           CRD         16.5       1.0     0.5   \n",
       "3  2013-04-04 18:12:01           CRD         10.0       1.0     0.5   \n",
       "4  2013-04-04 20:12:57           CRD         15.0       0.5     0.5   \n",
       "\n",
       "  tip_amount tolls_amount total_amount  \\\n",
       "0       2.50          0.0        15.00   \n",
       "1       1.80          0.0        10.80   \n",
       "2       3.60          0.0        21.60   \n",
       "3       3.45          0.0        14.95   \n",
       "4       3.20          0.0        19.20   \n",
       "\n",
       "                                                  id  \n",
       "0  91F6EB84975BBC867E32CB113C7C2CD5AD8751110E6292...  \n",
       "1  EC34CD1B3797DFAFF3FE099BA87B66568FE6A4AEDF89B6...  \n",
       "2  C1B9DA774DC2BBC6DE27CE994E7F44A0E1B595FD55E4C8...  \n",
       "3  9BA84250355AB3FC031C9252D395BF8A16BB0D96A0DCC8...  \n",
       "4  205A696DF62AD03C88DA8C5EC5248639579C41EA5EC846...  \n",
       "\n",
       "[5 rows x 27 columns]"
      ]
     },
     "execution_count": 13,
     "metadata": {},
     "output_type": "execute_result"
    }
   ],
   "source": [
    "#df.drop(df.columns[i], axis=1)\n",
    "#merged = result.drop('hash', axis=1)\n",
    "#merged = merged.drop(merged.columns[0], axis=1)\n",
    "result.head()"
   ]
  },
  {
   "cell_type": "code",
   "execution_count": 15,
   "metadata": {},
   "outputs": [],
   "source": [
    "#We should drop here also all duplicated columns\n",
    "result.to_csv('./data/mhash_trip_4_2013.csv', sep=',')"
   ]
  },
  {
   "cell_type": "code",
   "execution_count": 16,
   "metadata": {},
   "outputs": [
    {
     "name": "stdout",
     "output_type": "stream",
     "text": [
      "done\n"
     ]
    }
   ],
   "source": [
    "print(\"done\")"
   ]
  },
  {
   "cell_type": "code",
   "execution_count": null,
   "metadata": {},
   "outputs": [],
   "source": [
    "#7063631874 10 Mar 15:52 mhash_trip_4_2013.csv"
   ]
  }
 ],
 "metadata": {
  "kernelspec": {
   "display_name": "Python 3",
   "language": "python",
   "name": "python3"
  },
  "language_info": {
   "codemirror_mode": {
    "name": "ipython",
    "version": 3
   },
   "file_extension": ".py",
   "mimetype": "text/x-python",
   "name": "python",
   "nbconvert_exporter": "python",
   "pygments_lexer": "ipython3",
   "version": "3.6.4"
  }
 },
 "nbformat": 4,
 "nbformat_minor": 2
}
