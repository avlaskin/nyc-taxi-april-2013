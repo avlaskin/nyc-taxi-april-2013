{
 "cells": [
  {
   "cell_type": "code",
   "execution_count": 5,
   "metadata": {},
   "outputs": [],
   "source": [
    "import os\n",
    "import time\n",
    "import matplotlib\n",
    "import matplotlib.pyplot as plt\n",
    "import numpy as np\n",
    "import shapefile\n",
    "import pandas as pd\n",
    "import seaborn as sns\n",
    "from scipy import stats \n",
    "import scipy\n",
    "from scipy.special import factorial\n",
    "from sklearn.ensemble import RandomForestRegressor\n",
    "from sklearn.metrics import *\n",
    "from sklearn.model_selection import GridSearchCV\n",
    "import math\n",
    "from cleanData import getCleanTripData, getCleanFareData, getTripData\n",
    "from identifySuburbs import TaxiZone, Point, process_zones, haversine_distance, manhattan_distance\n"
   ]
  },
  {
   "cell_type": "code",
   "execution_count": 6,
   "metadata": {},
   "outputs": [],
   "source": [
    "fare = getTripData('./data/loc_hash_3_trip_4_2013.csv')\n",
    "fare = getCleanTripData(fare)"
   ]
  },
  {
   "cell_type": "code",
   "execution_count": 7,
   "metadata": {},
   "outputs": [],
   "source": [
    "# Cleaning data\n",
    "fare_amount_filter = ((fare.fare_amount >= 2.0) & (fare.fare_amount <= 200.0))\n",
    "payment_type_filter = ((fare.payment_type == 'CRD') | (fare.payment_type == 'CSH'))\n",
    "fare = fare[fare_amount_filter & payment_type_filter]"
   ]
  },
  {
   "cell_type": "code",
   "execution_count": 8,
   "metadata": {},
   "outputs": [
    {
     "data": {
      "text/html": [
       "<div>\n",
       "<style scoped>\n",
       "    .dataframe tbody tr th:only-of-type {\n",
       "        vertical-align: middle;\n",
       "    }\n",
       "\n",
       "    .dataframe tbody tr th {\n",
       "        vertical-align: top;\n",
       "    }\n",
       "\n",
       "    .dataframe thead th {\n",
       "        text-align: right;\n",
       "    }\n",
       "</style>\n",
       "<table border=\"1\" class=\"dataframe\">\n",
       "  <thead>\n",
       "    <tr style=\"text-align: right;\">\n",
       "      <th></th>\n",
       "      <th>Unnamed: 0</th>\n",
       "      <th>medallion</th>\n",
       "      <th>hack_license</th>\n",
       "      <th>vendor_id</th>\n",
       "      <th>rate_code</th>\n",
       "      <th>store_and_fwd_flag</th>\n",
       "      <th>pickup_datetime</th>\n",
       "      <th>dropoff_datetime</th>\n",
       "      <th>passenger_count</th>\n",
       "      <th>trip_time_in_secs</th>\n",
       "      <th>...</th>\n",
       "      <th>tolls_amount</th>\n",
       "      <th>total_amount</th>\n",
       "      <th>id.1</th>\n",
       "      <th>pick_locid</th>\n",
       "      <th>drop_locid</th>\n",
       "      <th>pickup_day</th>\n",
       "      <th>pickup_hour</th>\n",
       "      <th>pickup_weekday</th>\n",
       "      <th>pickup_weekhour</th>\n",
       "      <th>tip_percent</th>\n",
       "    </tr>\n",
       "  </thead>\n",
       "  <tbody>\n",
       "    <tr>\n",
       "      <th>0</th>\n",
       "      <td>4</td>\n",
       "      <td>205A696DF62AD03C88DA8C5EC5248639</td>\n",
       "      <td>579C41EA5EC846F8B641A42F9EE3E855</td>\n",
       "      <td>CMT</td>\n",
       "      <td>1</td>\n",
       "      <td>N</td>\n",
       "      <td>2013-04-04 20:12:57</td>\n",
       "      <td>2013-04-04 20:29:55</td>\n",
       "      <td>1</td>\n",
       "      <td>1017</td>\n",
       "      <td>...</td>\n",
       "      <td>0.0</td>\n",
       "      <td>19.20</td>\n",
       "      <td>205A696DF62AD03C88DA8C5EC5248639579C41EA5EC846...</td>\n",
       "      <td>246</td>\n",
       "      <td>141</td>\n",
       "      <td>4</td>\n",
       "      <td>20</td>\n",
       "      <td>3</td>\n",
       "      <td>92</td>\n",
       "      <td>16.666667</td>\n",
       "    </tr>\n",
       "    <tr>\n",
       "      <th>1</th>\n",
       "      <td>38</td>\n",
       "      <td>9827CDDA5D85B9C70A29ACE3824B644C</td>\n",
       "      <td>2BF23762F9D01A0723FE1B35996597C3</td>\n",
       "      <td>CMT</td>\n",
       "      <td>1</td>\n",
       "      <td>N</td>\n",
       "      <td>2013-04-04 14:39:58</td>\n",
       "      <td>2013-04-04 14:49:11</td>\n",
       "      <td>1</td>\n",
       "      <td>552</td>\n",
       "      <td>...</td>\n",
       "      <td>0.0</td>\n",
       "      <td>11.40</td>\n",
       "      <td>9827CDDA5D85B9C70A29ACE3824B644C2BF23762F9D01A...</td>\n",
       "      <td>239</td>\n",
       "      <td>48</td>\n",
       "      <td>4</td>\n",
       "      <td>14</td>\n",
       "      <td>3</td>\n",
       "      <td>86</td>\n",
       "      <td>16.666667</td>\n",
       "    </tr>\n",
       "    <tr>\n",
       "      <th>2</th>\n",
       "      <td>144</td>\n",
       "      <td>5BAA424F00F10358D10A8DCBBEDFDC27</td>\n",
       "      <td>91953611F278BD5D2B44C0FF82F45E1C</td>\n",
       "      <td>CMT</td>\n",
       "      <td>1</td>\n",
       "      <td>N</td>\n",
       "      <td>2013-04-04 07:37:50</td>\n",
       "      <td>2013-04-04 08:03:18</td>\n",
       "      <td>1</td>\n",
       "      <td>1528</td>\n",
       "      <td>...</td>\n",
       "      <td>0.0</td>\n",
       "      <td>31.00</td>\n",
       "      <td>5BAA424F00F10358D10A8DCBBEDFDC2791953611F278BD...</td>\n",
       "      <td>237</td>\n",
       "      <td>231</td>\n",
       "      <td>4</td>\n",
       "      <td>7</td>\n",
       "      <td>3</td>\n",
       "      <td>79</td>\n",
       "      <td>6.451613</td>\n",
       "    </tr>\n",
       "    <tr>\n",
       "      <th>3</th>\n",
       "      <td>156</td>\n",
       "      <td>49B8CFC71F0ED39C7B3F68F603DB9D05</td>\n",
       "      <td>5735FE2E3DC1CE2FC5DDA20579E1FD18</td>\n",
       "      <td>VTS</td>\n",
       "      <td>1</td>\n",
       "      <td>NaN</td>\n",
       "      <td>2013-04-12 23:29:00</td>\n",
       "      <td>2013-04-12 23:43:00</td>\n",
       "      <td>1</td>\n",
       "      <td>840</td>\n",
       "      <td>...</td>\n",
       "      <td>0.0</td>\n",
       "      <td>19.10</td>\n",
       "      <td>49B8CFC71F0ED39C7B3F68F603DB9D055735FE2E3DC1CE...</td>\n",
       "      <td>161</td>\n",
       "      <td>7</td>\n",
       "      <td>12</td>\n",
       "      <td>23</td>\n",
       "      <td>4</td>\n",
       "      <td>119</td>\n",
       "      <td>16.230366</td>\n",
       "    </tr>\n",
       "    <tr>\n",
       "      <th>4</th>\n",
       "      <td>178</td>\n",
       "      <td>AFE81C8DACF7151CBB3B2F4838883A8E</td>\n",
       "      <td>AF876139D0E7D99BE4F90FD49921559F</td>\n",
       "      <td>VTS</td>\n",
       "      <td>1</td>\n",
       "      <td>NaN</td>\n",
       "      <td>2013-04-12 23:39:00</td>\n",
       "      <td>2013-04-12 23:46:00</td>\n",
       "      <td>1</td>\n",
       "      <td>420</td>\n",
       "      <td>...</td>\n",
       "      <td>0.0</td>\n",
       "      <td>9.88</td>\n",
       "      <td>AFE81C8DACF7151CBB3B2F4838883A8EAF876139D0E7D9...</td>\n",
       "      <td>68</td>\n",
       "      <td>249</td>\n",
       "      <td>12</td>\n",
       "      <td>23</td>\n",
       "      <td>4</td>\n",
       "      <td>119</td>\n",
       "      <td>19.028340</td>\n",
       "    </tr>\n",
       "  </tbody>\n",
       "</table>\n",
       "<p>5 rows × 35 columns</p>\n",
       "</div>"
      ],
      "text/plain": [
       "   Unnamed: 0                         medallion  \\\n",
       "0           4  205A696DF62AD03C88DA8C5EC5248639   \n",
       "1          38  9827CDDA5D85B9C70A29ACE3824B644C   \n",
       "2         144  5BAA424F00F10358D10A8DCBBEDFDC27   \n",
       "3         156  49B8CFC71F0ED39C7B3F68F603DB9D05   \n",
       "4         178  AFE81C8DACF7151CBB3B2F4838883A8E   \n",
       "\n",
       "                       hack_license vendor_id  rate_code store_and_fwd_flag  \\\n",
       "0  579C41EA5EC846F8B641A42F9EE3E855       CMT          1                  N   \n",
       "1  2BF23762F9D01A0723FE1B35996597C3       CMT          1                  N   \n",
       "2  91953611F278BD5D2B44C0FF82F45E1C       CMT          1                  N   \n",
       "3  5735FE2E3DC1CE2FC5DDA20579E1FD18       VTS          1                NaN   \n",
       "4  AF876139D0E7D99BE4F90FD49921559F       VTS          1                NaN   \n",
       "\n",
       "      pickup_datetime     dropoff_datetime  passenger_count  \\\n",
       "0 2013-04-04 20:12:57  2013-04-04 20:29:55                1   \n",
       "1 2013-04-04 14:39:58  2013-04-04 14:49:11                1   \n",
       "2 2013-04-04 07:37:50  2013-04-04 08:03:18                1   \n",
       "3 2013-04-12 23:29:00  2013-04-12 23:43:00                1   \n",
       "4 2013-04-12 23:39:00  2013-04-12 23:46:00                1   \n",
       "\n",
       "   trip_time_in_secs     ...      tolls_amount  total_amount  \\\n",
       "0               1017     ...               0.0         19.20   \n",
       "1                552     ...               0.0         11.40   \n",
       "2               1528     ...               0.0         31.00   \n",
       "3                840     ...               0.0         19.10   \n",
       "4                420     ...               0.0          9.88   \n",
       "\n",
       "                                                id.1  pick_locid  drop_locid  \\\n",
       "0  205A696DF62AD03C88DA8C5EC5248639579C41EA5EC846...         246         141   \n",
       "1  9827CDDA5D85B9C70A29ACE3824B644C2BF23762F9D01A...         239          48   \n",
       "2  5BAA424F00F10358D10A8DCBBEDFDC2791953611F278BD...         237         231   \n",
       "3  49B8CFC71F0ED39C7B3F68F603DB9D055735FE2E3DC1CE...         161           7   \n",
       "4  AFE81C8DACF7151CBB3B2F4838883A8EAF876139D0E7D9...          68         249   \n",
       "\n",
       "  pickup_day pickup_hour pickup_weekday pickup_weekhour tip_percent  \n",
       "0          4          20              3              92   16.666667  \n",
       "1          4          14              3              86   16.666667  \n",
       "2          4           7              3              79    6.451613  \n",
       "3         12          23              4             119   16.230366  \n",
       "4         12          23              4             119   19.028340  \n",
       "\n",
       "[5 rows x 35 columns]"
      ]
     },
     "execution_count": 8,
     "metadata": {},
     "output_type": "execute_result"
    }
   ],
   "source": [
    "#Feature engineering\n",
    "fare['pickup_datetime'] = pd.to_datetime(fare.pickup_datetime) \n",
    "fare['pickup_day'] = fare['pickup_datetime'].dt.day\n",
    "fare['pickup_hour'] = fare['pickup_datetime'].dt.hour\n",
    "fare['pickup_weekday'] = fare['pickup_datetime'].dt.weekday\n",
    "fare['pickup_weekhour'] = fare['pickup_datetime'].dt.weekday*24 + fare['pickup_hour']\n",
    "fare['tip_percent'] = 100*fare['tip_amount'] / fare['total_amount']\n",
    "fare.head(5)"
   ]
  },
  {
   "cell_type": "code",
   "execution_count": 9,
   "metadata": {},
   "outputs": [
    {
     "name": "stdout",
     "output_type": "stream",
     "text": [
      "Started.\n",
      "Done\n"
     ]
    }
   ],
   "source": [
    "#,medallion,hack_license,vendor_id,rate_code,store_and_fwd_flag,pickup_datetime,dropoff_datetime,\n",
    "#passenger_count,trip_time_in_secs,trip_distance,pickup_longitude,pickup_latitude,dropoff_longitude,\n",
    "#dropoff_latitude,id,medallion.1,hack_license.1,vendor_id.1,pickup_datetime.1,payment_type,\n",
    "#fare_amount,surcharge,mta_tax,tip_amount,tolls_amount,total_amount,id.1,pick_locid,drop_locid\n",
    "print('Started.')\n",
    "# We only given time, pickup and dropoff location\n",
    "zones = process_zones('./data/taxi_zones/taxi_zones.json')\n",
    "alldata = fare[['id', 'pick_locid', 'drop_locid', 'fare_amount',\n",
    "                'pickup_datetime', 'pickup_day','pickup_hour',\n",
    "                'pickup_weekday','pickup_longitude', \n",
    "                'passenger_count','payment_type',\n",
    "                'pickup_latitude', 'dropoff_longitude', 'dropoff_latitude']]\n",
    "\n",
    "JFK_locid = 132\n",
    "LaGuardia_locid = 138\n",
    "Newark_locid = 1\n",
    "airports = [JFK_locid, LaGuardia_locid, Newark_locid]\n",
    "\n",
    "manhatten = []\n",
    "for z in zones:\n",
    "    if z.boro == \"Manhattan\":\n",
    "        manhatten.append(z.locID)\n",
    "manhetten_mapper_to = {}\n",
    "manhetten_mapper_from = {}\n",
    "airport_mapper = {}\n",
    "for index, row in alldata.iterrows():\n",
    "    ids = row['id']\n",
    "    ploc = row['pick_locid']\n",
    "    dloc = row['drop_locid']\n",
    "    if ploc in manhatten:\n",
    "        manhetten_mapper_from.update({ids: 1})\n",
    "    else:\n",
    "        manhetten_mapper_from.update({ids: 0})\n",
    "    if dloc in manhatten:\n",
    "        manhetten_mapper_to.update({ids: 1})\n",
    "    else:\n",
    "        manhetten_mapper_to.update({ids: 0})\n",
    "        \n",
    "    if ploc in airports or dloc in airports:\n",
    "        airport_mapper.update({ids: 1})\n",
    "    else:\n",
    "        airport_mapper.update({ids: 0})\n",
    "\n",
    "print(\"Done\")"
   ]
  },
  {
   "cell_type": "code",
   "execution_count": 10,
   "metadata": {},
   "outputs": [
    {
     "name": "stdout",
     "output_type": "stream",
     "text": [
      "Time: 1.448936939239502 \n"
     ]
    }
   ],
   "source": [
    "s = time.time()\n",
    "col1 = 'manhattan_to'\n",
    "alldata = alldata.assign(**{col1:np.full(len(alldata.index), int(-2))})\n",
    "\n",
    "col2 = 'manhattan_from'\n",
    "alldata = alldata.assign(**{col1:np.full(len(alldata.index), int(-2))})\n",
    "\n",
    "col3 = 'InAirports'\n",
    "alldata = alldata.assign(**{col2:np.full(len(alldata.index), int(-2))})\n",
    "\n",
    "alldata[col1] = alldata['id'].map(manhetten_mapper_to)\n",
    "alldata[col2] = alldata['id'].map(manhetten_mapper_from)\n",
    "alldata[col3] = alldata['id'].map(airport_mapper)\n",
    "e = time.time()\n",
    "print(\"Time: {} \".format(e-s))"
   ]
  },
  {
   "cell_type": "code",
   "execution_count": 11,
   "metadata": {},
   "outputs": [],
   "source": [
    "alldata.loc[:,'hvsine_pick_drop'] = haversine_distance(alldata['pickup_latitude'].values, alldata['pickup_longitude'].values, alldata['dropoff_latitude'].values, alldata['dropoff_longitude'].values)\n",
    "alldata.loc[:,'manh_pick_drop'] = manhattan_distance(alldata['pickup_latitude'].values, alldata['pickup_longitude'].values, alldata['dropoff_latitude'].values, alldata['dropoff_longitude'].values)\n",
    "#alldata.loc[:,'is_card_payment'] = 1*(alldata['payment_type'] == 'CRD')"
   ]
  },
  {
   "cell_type": "code",
   "execution_count": 12,
   "metadata": {},
   "outputs": [],
   "source": [
    "# from pandas.tools.plotting import parallel_coordinates\n",
    "# parallel_coordinates(alldata.sample(1200)[['InManhattan','pickup_weekday', 'passenger_count', 'InAirports']], 'InAirports', colormap='rainbow')\n",
    "# plt.show()"
   ]
  },
  {
   "cell_type": "code",
   "execution_count": 13,
   "metadata": {},
   "outputs": [],
   "source": [
    "mask_p = (alldata.pick_locid == 400)\n",
    "mask_d = (alldata.drop_locid == 400)\n",
    "alldata.loc[mask_p, 'pick_locid'] = 0\n",
    "alldata.loc[mask_d, 'drop_locid'] = 0\n",
    "\n",
    "alldata = alldata.drop(['id', 'pickup_datetime'],axis=1)\n",
    "alldata = alldata.drop('payment_type',axis=1)"
   ]
  },
  {
   "cell_type": "code",
   "execution_count": 28,
   "metadata": {},
   "outputs": [
    {
     "name": "stdout",
     "output_type": "stream",
     "text": [
      "263169\n",
      "87325\n",
      "89069\n"
     ]
    }
   ],
   "source": [
    "from sklearn.preprocessing import StandardScaler\n",
    "from sklearn.decomposition import PCA\n",
    "\n",
    "# # Prepearing test, train and cross validation sets\n",
    "train_len = int(len(alldata.index) * 0.6)\n",
    "test_len = int(len(alldata.index) * 0.2)\n",
    "crossval_len = int(len(alldata.index) * 0.2)\n",
    "\n",
    "train = None\n",
    "train = alldata.loc[:train_len,:]\n",
    "train_target = train.fare_amount\n",
    "train = train.drop(['fare_amount'], axis=1)\n",
    "scaler = StandardScaler().fit(train)\n",
    "train_scaled = pd.DataFrame(scaler.transform(train), index=train.index.values, columns=train.columns.values)\n",
    "pca_scaled = PCA()\n",
    "pca_scaled.fit(train_scaled)\n",
    "train_pca = pd.DataFrame(pca_scaled.transform(train_scaled))\n",
    "print(len(train.index))\n",
    "\n",
    "test = alldata.loc[train_len:train_len+test_len,:]\n",
    "test_target = test.fare_amount\n",
    "test = test.drop(['fare_amount'], axis=1)\n",
    "test_scaled = pd.DataFrame(scaler.transform(test), index=test.index.values, columns=test.columns.values)\n",
    "test_pca = pd.DataFrame(pca_scaled.transform(test_scaled))\n",
    "print(len(test.index))\n",
    "\n",
    "cross_val = alldata.loc[train_len+test_len:,:]\n",
    "cross_val_target = cross_val.fare_amount\n",
    "cross_val = cross_val.drop(['fare_amount'], axis=1)\n",
    "cross_val_scaled = pd.DataFrame(scaler.transform(cross_val), index=cross_val.index.values, columns=cross_val.columns.values)\n",
    "cross_val_pca = pd.DataFrame(pca_scaled.transform(cross_val_scaled))\n",
    "print(len(cross_val.index))"
   ]
  },
  {
   "cell_type": "code",
   "execution_count": 29,
   "metadata": {},
   "outputs": [
    {
     "name": "stdout",
     "output_type": "stream",
     "text": [
      "0    0.511115\n",
      "1    0.414702\n",
      "2    0.632258\n",
      "3    0.511115\n",
      "4    0.367269\n",
      "5    0.367269\n",
      "6    0.434588\n",
      "7    0.392472\n",
      "8    0.392472\n",
      "9    0.414702\n",
      "Name: fare_amount, dtype: float64\n"
     ]
    }
   ],
   "source": [
    "## To scale the output. so we can scale it by max of target to use in ANN.\n",
    "# We also deskew the target var to use MSE and Explained Variance scores.\n",
    "\n",
    "train_target = np.log(train_target)\n",
    "fare_scaler = np.max(train_target)\n",
    "train_target = train_target / fare_scaler\n",
    "test_target = np.log(test_target) / fare_scaler\n",
    "cross_val_target = np.log(cross_val_target) / fare_scaler\n",
    "\n",
    "print(train_target[:10])"
   ]
  },
  {
   "cell_type": "code",
   "execution_count": 30,
   "metadata": {},
   "outputs": [
    {
     "name": "stdout",
     "output_type": "stream",
     "text": [
      "Training NN Predictors: ['pick_locid' 'drop_locid' 'pickup_day' 'pickup_hour' 'pickup_weekday'\n",
      " 'pickup_longitude' 'passenger_count' 'pickup_latitude' 'dropoff_longitude'\n",
      " 'dropoff_latitude' 'manhattan_to' 'manhattan_from' 'InAirports'\n",
      " 'hvsine_pick_drop' 'manh_pick_drop']\n",
      "Epoch 1/20\n",
      " - 74s - loss: 0.0025 - mean_absolute_error: 0.0350\n",
      "Epoch 2/20\n",
      " - 75s - loss: 0.0021 - mean_absolute_error: 0.0317\n",
      "Epoch 3/20\n",
      " - 75s - loss: 0.0021 - mean_absolute_error: 0.0307\n",
      "Epoch 4/20\n",
      " - 75s - loss: 0.0020 - mean_absolute_error: 0.0303\n",
      "Epoch 5/20\n",
      " - 75s - loss: 0.0020 - mean_absolute_error: 0.0301\n",
      "Epoch 6/20\n",
      " - 74s - loss: 0.0020 - mean_absolute_error: 0.0300\n",
      "Epoch 7/20\n",
      " - 75s - loss: 0.0020 - mean_absolute_error: 0.0299\n",
      "Epoch 8/20\n",
      " - 74s - loss: 0.0020 - mean_absolute_error: 0.0298\n",
      "Epoch 9/20\n",
      " - 74s - loss: 0.0020 - mean_absolute_error: 0.0298\n",
      "Epoch 10/20\n",
      " - 75s - loss: 0.0020 - mean_absolute_error: 0.0297\n",
      "Epoch 11/20\n",
      " - 74s - loss: 0.0020 - mean_absolute_error: 0.0296\n",
      "Epoch 12/20\n",
      " - 75s - loss: 0.0020 - mean_absolute_error: 0.0296\n",
      "Epoch 13/20\n",
      " - 75s - loss: 0.0020 - mean_absolute_error: 0.0296\n",
      "Epoch 14/20\n",
      " - 74s - loss: 0.0020 - mean_absolute_error: 0.0295\n",
      "Epoch 15/20\n",
      " - 74s - loss: 0.0020 - mean_absolute_error: 0.0295\n",
      "Epoch 16/20\n",
      " - 74s - loss: 0.0020 - mean_absolute_error: 0.0295\n",
      "Epoch 17/20\n",
      " - 76s - loss: 0.0019 - mean_absolute_error: 0.0295\n",
      "Epoch 18/20\n",
      " - 75s - loss: 0.0019 - mean_absolute_error: 0.0295\n",
      "Epoch 19/20\n",
      " - 77s - loss: 0.0019 - mean_absolute_error: 0.0295\n",
      "Epoch 20/20\n",
      " - 81s - loss: 0.0019 - mean_absolute_error: 0.0294\n",
      "[[ 0.41281074]\n",
      " [ 0.4384774 ]\n",
      " [ 0.35562077]\n",
      " [ 0.5339756 ]\n",
      " [ 0.34773067]\n",
      " [ 0.38547355]\n",
      " [ 0.37159032]\n",
      " [ 0.45418575]\n",
      " [ 0.27502483]\n",
      " [ 0.29400447]]\n",
      "Time: 1502.2793881893158 \n",
      "KERAS Test set: R2 = 0.8426287166744453 Variance Explained: 0.844212398303456\n"
     ]
    },
    {
     "data": {
      "text/plain": [
       "263736    0.452577\n",
       "263737    0.392472\n",
       "263738    0.321753\n",
       "263739    0.498093\n",
       "263740    0.321753\n",
       "263741    0.338175\n",
       "263742    0.338175\n",
       "263743    0.452577\n",
       "263744    0.321753\n",
       "263745    0.560634\n",
       "Name: fare_amount, dtype: float64"
      ]
     },
     "execution_count": 30,
     "metadata": {},
     "output_type": "execute_result"
    }
   ],
   "source": [
    "from keras.models import Sequential\n",
    "from keras.layers import Dense\n",
    "from keras import losses\n",
    "from keras.callbacks import ModelCheckpoint\n",
    "\n",
    "keras_train = train_pca.copy()\n",
    "keras_test = test_pca.copy()\n",
    "\n",
    "keras_train['bais'] = 1.0\n",
    "keras_test['bais'] = 1.0\n",
    "\n",
    "print(\"Training NN Predictors: {}\".format(train.columns.values))\n",
    "dim = len(keras_train.columns.values)\n",
    "bestFile = \"bestModel\"\n",
    "s = time.time()\n",
    "model = Sequential()\n",
    "model.add(Dense(18, input_dim=dim, activation='relu', kernel_initializer=\"normal\"))\n",
    "model.add(Dense(1, activation='relu', kernel_initializer=\"normal\")) #uniform\n",
    "\n",
    "model.compile(loss=losses.mean_squared_error, optimizer='sgd', metrics=['mae'])\n",
    "mcp = ModelCheckpoint(bestFile, monitor=\"loss\",save_best_only=True, save_weights_only=False)\n",
    "model.fit(keras_train.values, train_target, epochs=20, batch_size=3, verbose=2, callbacks=[mcp])\n",
    "model.load_weights(bestFile)\n",
    "\n",
    "keras_predicted = model.predict(keras_test.values)\n",
    "print(keras_predicted[:10])\n",
    "e = time.time()\n",
    "print(\"Time: {} \".format(e-s))\n",
    "sr2 = r2_score(test_target, keras_predicted)\n",
    "variance_explained = explained_variance_score(test_target, keras_predicted)\n",
    "print(\"KERAS Test set: R2 = {} Variance Explained: {}\".format(sr2, variance_explained))\n",
    "test_target.head(10)"
   ]
  },
  {
   "cell_type": "code",
   "execution_count": 31,
   "metadata": {},
   "outputs": [
    {
     "name": "stdout",
     "output_type": "stream",
     "text": [
      "Training RForest: 300\n",
      "Training RForest Predictors: ['pick_locid' 'drop_locid' 'pickup_day' 'pickup_hour' 'pickup_weekday'\n",
      " 'pickup_longitude' 'passenger_count' 'pickup_latitude' 'dropoff_longitude'\n",
      " 'dropoff_latitude' 'manhattan_to' 'manhattan_from' 'InAirports'\n",
      " 'hvsine_pick_drop' 'manh_pick_drop']\n",
      "[ 0.42939785  0.43482587  0.35850778  0.53081601  0.36080519  0.37875767\n",
      "  0.37305034  0.44871592  0.32239588  0.30364136]\n",
      "Time: 254.20374822616577 \n",
      "R2 = 0.8476526460024592 Variance Explained: 0.8476548195222819 Estimators = 300\n"
     ]
    },
    {
     "data": {
      "text/plain": [
       "263736    0.452577\n",
       "263737    0.392472\n",
       "263738    0.321753\n",
       "263739    0.498093\n",
       "263740    0.321753\n",
       "Name: fare_amount, dtype: float64"
      ]
     },
     "execution_count": 31,
     "metadata": {},
     "output_type": "execute_result"
    }
   ],
   "source": [
    "from sklearn import metrics\n",
    "import _pickle as cPickle\n",
    "#for estimators in range(100,300,50):\n",
    "estimators = 300\n",
    "s = time.time()\n",
    "print(\"Training RForest: {}\".format(estimators))\n",
    "print(\"Training RForest Predictors: {}\".format(train.columns.values))\n",
    "forest = RandomForestRegressor(n_estimators=estimators, min_samples_leaf=50, min_samples_split=75, n_jobs =-1)\n",
    "forest.fit(train_pca.values, train_target)\n",
    "with open('bestTipPredictionWithPaymentType', 'wb') as f:\n",
    "    cPickle.dump(forest, f)\n",
    "predicted=forest.predict(test_pca.values)\n",
    "print(predicted[:10])\n",
    "\n",
    "e = time.time()\n",
    "print(\"Time: {} \".format(e-s))\n",
    "sr2 = metrics.r2_score(test_target, predicted)\n",
    "variance_explained = metrics.explained_variance_score(test_target, predicted)\n",
    "print(\"R2 = {} Variance Explained: {} Estimators = {}\".format(sr2, variance_explained, estimators))\n",
    "test_target.head()"
   ]
  },
  {
   "cell_type": "code",
   "execution_count": 32,
   "metadata": {},
   "outputs": [
    {
     "name": "stdout",
     "output_type": "stream",
     "text": [
      "RFORSET R2 = 0.8389088043515831 Variance Explained: 0.8389099786133577 MSE on cross val.: 0.0020435408965496613\n",
      "KERAS   R2 = 0.837851588378158 Variance Explained: 0.8388637806396979 MSE on cross val.: 0.0020569523314172434\n"
     ]
    }
   ],
   "source": [
    "# Cross validation set testing\n",
    "forest_predicted=forest.predict(cross_val_pca.values)\n",
    "keras_cross_val = cross_val_pca.copy()\n",
    "keras_cross_val['bais'] = 1.0\n",
    "keras_predicted=model.predict(keras_cross_val.values)\n",
    "\n",
    "fsr2 = metrics.r2_score(cross_val_target, forest_predicted)\n",
    "fvariance_explained = metrics.explained_variance_score(cross_val_target, forest_predicted)\n",
    "forest_mse = mean_squared_error(cross_val_target, forest_predicted)\n",
    "\n",
    "ksr2 = metrics.r2_score(cross_val_target, keras_predicted)\n",
    "kvariance_explained = metrics.explained_variance_score(cross_val_target, keras_predicted)\n",
    "keras_mse = mean_squared_error(cross_val_target, keras_predicted)\n",
    "\n",
    "print(\"RFORSET R2 = {} Variance Explained: {} MSE on cross val.: {}\".format(fsr2, fvariance_explained, forest_mse))\n",
    "print(\"KERAS   R2 = {} Variance Explained: {} MSE on cross val.: {}\".format(ksr2, kvariance_explained, keras_mse))\n",
    "\n"
   ]
  },
  {
   "cell_type": "code",
   "execution_count": 33,
   "metadata": {},
   "outputs": [
    {
     "name": "stdout",
     "output_type": "stream",
     "text": [
      "[  2.88657986e-15   1.21430643e-17   3.55618313e-17   4.33680869e-18\n",
      "   8.67361738e-18   6.72205347e-18   6.50521303e-18   2.77555756e-17\n",
      "   4.33680869e-18   3.40005801e-16   2.25514052e-17   9.02056208e-17\n",
      "   4.85722573e-17   6.93889390e-18   3.81639165e-17]\n"
     ]
    },
    {
     "data": {
      "image/png": "[encoded data removed]",
      "text/plain": [
       "<matplotlib.figure.Figure at 0x10da17908>"
      ]
     },
     "metadata": {},
     "output_type": "display_data"
    }
   ],
   "source": [
    "predictors = train.columns.values\n",
    "importances=forest.feature_importances_\n",
    "std = np.std([forest.feature_importances_ for tree in forest.estimators_],axis=0)\n",
    "print(std)\n",
    "indices = np.argsort(importances)[::-1]\n",
    "sorted_important_features=[]\n",
    "for i in indices:\n",
    "    sorted_important_features.append(predictors[i])\n",
    "plt.figure(figsize=(10,10))\n",
    "plt.title(\"Feature Importances By Random Forest Model - no payment type\")\n",
    "plt.barh(range(len(indices)), importances[indices],\n",
    "       color=[\"black\",\"gold\"], yerr=std[indices], align=\"center\")\n",
    "plt.yticks(range(len(indices)), sorted_important_features, rotation='horizontal');"
   ]
  },
  {
   "cell_type": "code",
   "execution_count": 122,
   "metadata": {},
   "outputs": [
    {
     "data": {
      "text/plain": [
       "Text(0.5,1,'Learning Curve for 18x1 Model')"
      ]
     },
     "execution_count": 122,
     "metadata": {},
     "output_type": "execute_result"
    },
    {
     "data": {
      "image/png": "[encoded data removed]",
      "text/plain": [
       "<matplotlib.figure.Figure at 0x1a4a428240>"
      ]
     },
     "metadata": {},
     "output_type": "display_data"
    }
   ],
   "source": [
    "#Learning curve for Keras model for Fare prediction\n",
    "#From the graph model needs more training\n",
    "percents = [20, 40, 60, 80, 90, 100]\n",
    "test_mse = [0.00033660618510281885,\n",
    "            0.00031786012743418635,\n",
    "            0.00032588690468469766,\n",
    "            \n",
    "            0.00032082232622434594,\n",
    "            0.00031592803954051066,\n",
    "            0.0003095449725446473\n",
    "           ]\n",
    "train_mse= [0.00031334009201490525,\n",
    "           0.0002777785048886469,\n",
    "           0.0002963579107385092,\n",
    "            \n",
    "           0.0002983579696845688,\n",
    "           0.000290192603117889,\n",
    "           0.0002858966877864832]\n",
    "plt.plot(percents,test_mse)\n",
    "plt.plot(percents, train_mse)\n",
    "plt.title(\"Learning Curve for 18x1 Model\")"
   ]
  },
  {
   "cell_type": "code",
   "execution_count": null,
   "metadata": {},
   "outputs": [],
   "source": []
  }
 ],
 "metadata": {
  "kernelspec": {
   "display_name": "Python 3",
   "language": "python",
   "name": "python3"
  },
  "language_info": {
   "codemirror_mode": {
    "name": "ipython",
    "version": 3
   },
   "file_extension": ".py",
   "mimetype": "text/x-python",
   "name": "python",
   "nbconvert_exporter": "python",
   "pygments_lexer": "ipython3",
   "version": "3.6.4"
  }
 },
 "nbformat": 4,
 "nbformat_minor": 2
}
